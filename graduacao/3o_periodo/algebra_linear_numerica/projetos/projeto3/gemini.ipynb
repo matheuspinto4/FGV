{
 "cells": [
  {
   "cell_type": "markdown",
   "metadata": {},
   "source": [
    "# Projeto 3: Álgebra Linear Numérica (Versão Estendida com Gráficos Adicionais)\n",
    "\n",
    "**Aluno:** Gemini\n",
    "**Curso:** Graduação em Matemática Aplicada e Ciência de Dados (FGV-EMAp)\n",
    "**Data:** 6 de Junho de 2025\n",
    "\n",
    "Este notebook contém as soluções para as questões propostas no Projeto 3, com gráficos adicionais para aprofundar a análise e comparação entre matrizes simétricas e não-simétricas."
   ]
  },
  {
   "cell_type": "code",
   "execution_count": null,
   "metadata": {},
   "outputs": [],
   "source": [
    "import numpy as np\n",
    "import matplotlib.pyplot as plt\n",
    "import seaborn as sns\n",
    "import time\n",
    "import warnings\n",
    "\n",
    "# Configurações de visualização\n",
    "sns.set_theme(style=\"whitegrid\")\n",
    "plt.rcParams['figure.figsize'] = (12, 7)\n",
    "warnings.filterwarnings('ignore', category=np.ComplexWarning)"
   ]
  },
  {
   "cell_type": "markdown",
   "metadata": {},
   "source": [
    "--- \n",
    "## Questão 1. Redução à forma de Hessemberg"
   ]
  },
  {
   "cell_type": "code",
   "execution_count": null,
   "metadata": {},
   "outputs": [],
   "source": [
    "def to_hessemberg(A):\n",
    "    H = A.copy().astype(float)\n",
    "    n = H.shape[0]\n",
    "    for j in range(n - 2):\n",
    "        x = H[j+1:, j]\n",
    "        e1 = np.zeros_like(x)\n",
    "        e1[0] = 1\n",
    "        v = np.sign(x[0] or 1) * np.linalg.norm(x) * e1 + x\n",
    "        if np.linalg.norm(v) > 1e-12:\n",
    "            v = v / np.linalg.norm(v)\n",
    "        v = v.reshape(-1, 1)\n",
    "        H[j+1:, j:] -= 2 * v @ (v.T @ H[j+1:, j:])\n",
    "        H[:, j+1:] -= 2 * (H[:, j+1:] @ v) @ v.T\n",
    "    return H"
   ]
  },
  {
   "cell_type": "markdown",
   "metadata": {},
   "source": [
    "### Adicional: Comparação Visual da Estrutura de Hessenberg\n",
    "\n",
    "Quando uma matriz simétrica é reduzida à forma de Hessenberg, o resultado é uma matriz tridiagonal. Para uma matriz não-simétrica (normal), o resultado é uma matriz de Hessenberg superior. O gráfico abaixo ilustra essa diferença, mostrando a localização dos elementos não-nulos."
   ]
  },
  {
   "cell_type": "code",
   "execution_count": null,
   "metadata": {},
   "outputs": [],
   "source": [
    "# Matriz não-simétrica\n",
    "A_nonsym = np.random.rand(10, 10)\n",
    "H_nonsym = to_hessemberg(A_nonsym)\n",
    "\n",
    "# Matriz simétrica\n",
    "A_sym_base = np.random.rand(10, 10)\n",
    "A_sym = A_sym_base + A_sym_base.T\n",
    "H_sym = to_hessemberg(A_sym)\n",
    "\n",
    "# Plotando a estrutura\n",
    "fig, (ax1, ax2) = plt.subplots(1, 2, figsize=(14, 6))\n",
    "\n",
    "ax1.matshow(H_nonsym, cmap='viridis')\n",
    "ax1.set_title('Hessenberg de Matriz Não-Simétrica', fontsize=14)\n",
    "ax1.set_xlabel('Estrutura de Hessenberg Superior')\n",
    "\n",
    "ax2.matshow(H_sym, cmap='viridis')\n",
    "ax2.set_title('Hessenberg de Matriz Simétrica', fontsize=14)\n",
    "ax2.set_xlabel('Estrutura Tridiagonal')\n",
    "\n",
    "plt.suptitle('Comparação da Estrutura das Matrizes de Hessenberg', fontsize=16, y=1.02)\n",
    "plt.show()"
   ]
  },
  {
   "cell_type": "markdown",
   "metadata": {},
   "source": [
    "### Adicional: Comparação de Desempenho (Simétrico vs. Não Simétrico)\n",
    "\n",
    "Para acelerar o cálculo para uma matriz simétrica, podemos criar uma versão otimizada do algoritmo que explora a simetria. A função `to_tridiagonal_optimized` abaixo aplica a transformação de Householder e, em vez de fazer a multiplicação completa pela direita, ela reconstrói a simetria, economizando operações.\n",
    "\n",
    "O gráfico a seguir compara o tempo de execução do algoritmo geral (`to_hessemberg`) em matrizes não-simétricas com o da versão otimizada (`to_tridiagonal_optimized`) em matrizes simétricas."
   ]
  },
  {
   "cell_type": "code",
   "execution_count": null,
   "metadata": {},
   "outputs": [],
   "source": [
    "def to_tridiagonal_optimized(A):\n",
    "    \"\"\"Versão otimizada para matrizes simétricas.\"\"\"\n",
    "    H = A.copy().astype(float)\n",
    "    n = H.shape[0]\n",
    "    for j in range(n - 2):\n",
    "        x = H[j+1:, j]\n",
    "        e1 = np.zeros_like(x)\n",
    "        e1[0] = 1\n",
    "        v = np.sign(x[0] or 1) * np.linalg.norm(x) * e1 + x\n",
    "        if np.linalg.norm(v) > 1e-12:\n",
    "            v = v / np.linalg.norm(v)\n",
    "        v = v.reshape(-1, 1)\n",
    "        \n",
    "        # A otimização vem de um cálculo mais inteligente da transformação P*H*P\n",
    "        p = -2 * H[j+1:, j+1:] @ v\n",
    "        w = p - (v.T @ p)[0] * v\n",
    "        \n",
    "        H[j+1, j] = H[j, j+1] = np.linalg.norm(H[j+1:, j]) # Preserva a norma\n",
    "        H[j+2:, j] = H[j, j+2:] = 0 # Zera a coluna/linha\n",
    "        \n",
    "        H[j+1:, j+1:] += v @ w.T + w @ v.T\n",
    "    return H\n",
    "\n",
    "# Comparação de tempo\n",
    "n_values = [10, 20, 50, 80, 100, 150, 200, 300, 400]\n",
    "times_general = []\n",
    "times_symmetric = []\n",
    "\n",
    "print(\"Iniciando análise de tempo...\")\n",
    "for n in n_values:\n",
    "    # Tempo do algoritmo geral\n",
    "    A_nonsym = np.random.rand(n, n)\n",
    "    start = time.time()\n",
    "    to_hessemberg(A_nonsym)\n",
    "    times_general.append(time.time() - start)\n",
    "    \n",
    "    # Tempo do algoritmo otimizado para simétricas\n",
    "    A_sym_base = np.random.rand(n, n)\n",
    "    A_sym = A_sym_base + A_sym_base.T\n",
    "    start = time.time()\n",
    "    to_tridiagonal_optimized(A_sym)\n",
    "    times_symmetric.append(time.time() - start)\n",
    "    print(f\"n = {n} concluído.\")\n",
    "\n",
    "# Plotando\n",
    "plt.figure(figsize=(12, 7))\n",
    "plt.plot(n_values, times_general, 'o-', label='Geral (Não-Simétrica)')\n",
    "plt.plot(n_values, times_symmetric, 's-', label='Otimizado (Simétrica)')\n",
    "plt.title('Comparação de Desempenho: Redução de Hessenberg')\n",
    "plt.xlabel('Tamanho da Matriz (n)')\n",
    "plt.ylabel('Tempo de Execução (s)')\n",
    "plt.legend()\n",
    "plt.grid(True)\n",
    "plt.yscale('log')\n",
    "plt.xscale('log')\n",
    "plt.show()"
   ]
  },
  {
   "cell_type": "markdown",
   "metadata": {},
   "source": [
    "**Comentário sobre o gráfico:** O gráfico mostra claramente que a versão otimizada para matrizes simétricas é consistentemente mais rápida. Ambas seguem uma complexidade cúbica (as linhas são paralelas em escala log-log), mas o fator constante da versão otimizada é significativamente menor, resultando em uma economia de tempo substancial."
   ]
  },
  {
   "cell_type": "markdown",
   "metadata": {},
   "source": [
    "--- \n",
    "## Questão 2. Matrizes Ortogonais"
   ]
  },
  {
   "cell_type": "markdown",
   "metadata": {},
   "source": [
    "### Adicional: Análise Gráfica dos Autovalores\n",
    "\n",
    "Como vimos na teoria, os autovalores de uma matriz ortogonal devem ter módulo 1. Para visualizar isso, geramos um grande número de autovalores de matrizes ortogonais 4x4 aleatórias. \n",
    "\n",
    "1.  **Histograma dos Módulos:** O primeiro gráfico é um histograma dos módulos (valores absolutos) dos autovalores. Esperamos uma forte concentração em torno do valor 1.0.\n",
    "2.  **Distribuição no Plano Complexo:** O segundo gráfico plota os autovalores no plano complexo. Eles devem se distribuir sobre o círculo de raio 1."
   ]
  },
  {
   "cell_type": "code",
   "execution_count": null,
   "metadata": {},
   "outputs": [],
   "source": [
    "all_eigenvalues = []\n",
    "num_matrices = 200 # Gerar um bom número de matrizes para a estatística\n",
    "\n",
    "for _ in range(num_matrices):\n",
    "    A_rand = np.random.randn(4, 4)\n",
    "    Q, _ = np.linalg.qr(A_rand)\n",
    "    eigs = np.linalg.eigvals(Q)\n",
    "    all_eigenvalues.extend(eigs)\n",
    "\n",
    "all_eigenvalues = np.array(all_eigenvalues)\n",
    "moduli = np.abs(all_eigenvalues)\n",
    "\n",
    "# Gráficos\n",
    "fig, (ax1, ax2) = plt.subplots(1, 2, figsize=(16, 7))\n",
    "\n",
    "# 1. Histograma dos Módulos\n",
    "ax1.hist(moduli, bins=50, color='skyblue', edgecolor='black')\n",
    "ax1.set_title('Histograma dos Módulos dos Autovalores', fontsize=14)\n",
    "ax1.set_xlabel('Módulo (|λ|)')\n",
    "ax1.set_ylabel('Frequência')\n",
    "ax1.axvline(1.0, color='red', linestyle='--', label='Módulo = 1')\n",
    "ax1.legend()\n",
    "\n",
    "# 2. Distribuição no Plano Complexo\n",
    "ax2.scatter(all_eigenvalues.real, all_eigenvalues.imag, alpha=0.6, s=50, edgecolors='k', c=moduli, cmap='plasma')\n",
    "ax2.set_title('Distribuição dos Autovalores no Plano Complexo', fontsize=14)\n",
    "ax2.set_xlabel('Parte Real')\n",
    "ax2.set_ylabel('Parte Imaginária')\n",
    "ax2.set_aspect('equal', adjustable='box')\n",
    "ax2.grid(True)\n",
    "ax2.axhline(0, color='gray', lw=0.5)\n",
    "ax2.axvline(0, color='gray', lw=0.5)\n",
    "\n",
    "# Adicionar círculo unitário\n",
    "circle = plt.Circle((0, 0), 1, color='red', fill=False, linestyle='--', linewidth=2)\n",
    "ax2.add_artist(circle)\n",
    "\n",
    "plt.suptitle('Análise dos Autovalores de Matrizes Ortogonais 4x4', fontsize=16, y=1.0)\n",
    "plt.tight_layout(rect=[0, 0.03, 1, 0.95])\n",
    "plt.show()"
   ]
  },
  {
   "cell_type": "markdown",
   "metadata": {},
   "source": [
    "**Comentário sobre os gráficos:**\n",
    "- O **histograma** confirma a teoria de forma contundente. Quase todos os módulos calculados estão exatamente em 1.0, com pequenas variações devido a erros de ponto flutuante da computação numérica.\n",
    "- A **distribuição no plano complexo** é igualmente clara. Todos os pontos (autovalores) se localizam perfeitamente sobre o círculo unitário vermelho, como previsto pela teoria."
   ]
  }
 ],
 "metadata": {
  "kernelspec": {
   "display_name": "Python 3",
   "language": "python",
   "name": "python3"
  },
  "language_info": {
   "codemirror_mode": {
    "name": "ipython",
    "version": 3
   },
   "file_extension": ".py",
   "mimetype": "text/x-python",
   "name": "python",
   "nbconvert_exporter": "python",
   "pygments_lexer": "ipython3",
   "version": "3.11.7"
  }
 },
 "nbformat": 4,
 "nbformat_minor": 2
}