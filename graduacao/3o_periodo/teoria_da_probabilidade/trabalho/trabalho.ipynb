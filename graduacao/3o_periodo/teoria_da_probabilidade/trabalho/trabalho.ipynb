{
 "cells": [
  {
   "cell_type": "code",
   "execution_count": 18,
   "id": "b5c8eaa4",
   "metadata": {},
   "outputs": [],
   "source": [
    "import numpy as np\n",
    "import matplotlib.pyplot as plt\n",
    "import pandas as pd\n",
    "import math"
   ]
  },
  {
   "cell_type": "code",
   "execution_count": 19,
   "id": "18e4ea4b",
   "metadata": {},
   "outputs": [
    {
     "data": {
      "text/html": [
       "<div>\n",
       "<style scoped>\n",
       "    .dataframe tbody tr th:only-of-type {\n",
       "        vertical-align: middle;\n",
       "    }\n",
       "\n",
       "    .dataframe tbody tr th {\n",
       "        vertical-align: top;\n",
       "    }\n",
       "\n",
       "    .dataframe thead th {\n",
       "        text-align: right;\n",
       "    }\n",
       "</style>\n",
       "<table border=\"1\" class=\"dataframe\">\n",
       "  <thead>\n",
       "    <tr style=\"text-align: right;\">\n",
       "      <th></th>\n",
       "      <th>Nome</th>\n",
       "      <th>ID</th>\n",
       "      <th>m</th>\n",
       "      <th>c</th>\n",
       "      <th>f</th>\n",
       "      <th>N</th>\n",
       "      <th>M</th>\n",
       "    </tr>\n",
       "  </thead>\n",
       "  <tbody>\n",
       "    <tr>\n",
       "      <th>49</th>\n",
       "      <td>Matheus Vilarino de Souza Pinto</td>\n",
       "      <td>50</td>\n",
       "      <td>5.0</td>\n",
       "      <td>0.02</td>\n",
       "      <td>0.55</td>\n",
       "      <td>665</td>\n",
       "      <td>4500</td>\n",
       "    </tr>\n",
       "  </tbody>\n",
       "</table>\n",
       "</div>"
      ],
      "text/plain": [
       "                               Nome  ID    m     c     f    N     M\n",
       "49  Matheus Vilarino de Souza Pinto  50  5.0  0.02  0.55  665  4500"
      ]
     },
     "execution_count": 19,
     "metadata": {},
     "output_type": "execute_result"
    }
   ],
   "source": [
    "df_dados = pd.read_excel('dados-2025.xlsx', engine=\"openpyxl\")\n",
    "df_resultados = pd.read_excel('resultados-2025.xlsx', engine='openpyxl')\n",
    "\n",
    "eu = df_dados[df_dados['Nome'] == \"Matheus Vilarino de Souza Pinto\"]\n",
    "# eu = df_dados[df_dados['Nome'] == \"Beatriz dos Santos Marques\"]\n",
    "\n",
    "linha = eu.iloc[0]\n",
    "m, c, f, N, M = linha['m'], linha['c'], linha['f'], linha['N'], linha['M']\n",
    "eu"
   ]
  },
  {
   "cell_type": "markdown",
   "id": "e8551c4f",
   "metadata": {},
   "source": [
    "\n",
    "# Questão 1."
   ]
  },
  {
   "cell_type": "markdown",
   "id": "e1d7f613",
   "metadata": {},
   "source": [
    "## a)"
   ]
  },
  {
   "cell_type": "code",
   "execution_count": 20,
   "id": "1a4c7733",
   "metadata": {},
   "outputs": [],
   "source": [
    "def gerar_tempo_atendimento_tipo1(c_val):\n",
    "    \"\"\"\n",
    "    Gera uma amostra do tempo de atendimento para clientes do Tipo 1.\n",
    "    Amostra da densidade f(x) = 0,25 + c(x-4) para 2 < x < 6.\n",
    "    Utiliza o método da amostragem por transformada inversa.\n",
    "    \"\"\"\n",
    "    # Gera um número aleatório uniforme entre 0 e 1\n",
    "    u = np.random.rand()\n",
    "    \n",
    "    # Resolve a equação quadrática F(x) = u, onde F(x) é a CDF.\n",
    "    # A equação é (c/2)x^2 + (0.25 - 4c)x + (6c - 0.5 - u) = 0\n",
    "    A = c_val / 2\n",
    "    B = 0.25 - 4 * c_val\n",
    "    C = 6 * c_val - 0.5 - u\n",
    "    \n",
    "    # Calcula o discriminante, garantindo que não seja negativo por erros de ponto flutuante\n",
    "    discriminante = B**2 - 4 * A * C\n",
    "    if discriminante < 0:\n",
    "        discriminante = 0\n",
    "\n",
    "    sqrt_discriminante = math.sqrt(discriminante)\n",
    "    \n",
    "    # Calcula as duas raízes da equação quadrática\n",
    "    x1 = (-B + sqrt_discriminante) / (2 * A)\n",
    "    x2 = (-B - sqrt_discriminante) / (2 * A)\n",
    "    \n",
    "    # A raiz correta é a que está no intervalo [2, 6]\n",
    "    if 2 <= x1 <= 6:\n",
    "        return x1\n",
    "    else:\n",
    "        return x2"
   ]
  },
  {
   "cell_type": "code",
   "execution_count": 21,
   "id": "cb04726f",
   "metadata": {},
   "outputs": [],
   "source": [
    "def simular_fila(f, c, m, num_clientes=10000):\n",
    "    \"\"\"\n",
    "    Realiza a simulação da fila de atendimento com um único servidor.\n",
    "\n",
    "    Args:\n",
    "        f (float): Fração de clientes do Tipo 1 (e.g., 0.7 para 70%).\n",
    "        c (float): Constante da PDF do Tipo 1.\n",
    "        m (float): Média de tempo de atendimento para clientes do Tipo 2 (em minutos).\n",
    "        num_clientes (int): Número de clientes a serem simulados.\n",
    "\n",
    "    Returns:\n",
    "        dict: Um dicionário contendo as métricas estatísticas da simulação.\n",
    "    \"\"\"\n",
    "    print(f\"Iniciando simulação com f={f}, c={c}, m={m}\\n\")\n",
    "    \n",
    "    # --- 1. Geração dos Tempos de Chegada ---\n",
    "    # Chegadas seguem um Processo de Poisson com média de 1 a cada 10 min.\n",
    "    # Isso significa que o tempo entre chegadas segue uma distribuição Exponencial com média 10.\n",
    "    media_entre_chegadas = 10\n",
    "    tempos_entre_chegadas = np.random.exponential(scale=media_entre_chegadas, size=num_clientes)\n",
    "    tempos_de_chegada = np.cumsum(tempos_entre_chegadas)\n",
    "\n",
    "    # --- 2. Geração dos Tempos de Atendimento ---\n",
    "    tempos_de_atendimento = []\n",
    "    # Determina o tipo de cada cliente\n",
    "    tipos_de_cliente = np.random.rand(num_clientes)\n",
    "    \n",
    "    for i in range(num_clientes):\n",
    "        if tipos_de_cliente[i] < f:\n",
    "            # Cliente Tipo 1\n",
    "            tempos_de_atendimento.append(gerar_tempo_atendimento_tipo1(c))\n",
    "        else:\n",
    "            # Cliente Tipo 2 (Exponencial com média m)\n",
    "            tempos_de_atendimento.append(np.random.exponential(scale=m))\n",
    "\n",
    "    # --- 3. Simulação da Fila ---\n",
    "    inicios_atendimento = np.zeros(num_clientes)\n",
    "    fins_atendimento = np.zeros(num_clientes)\n",
    "    tempos_de_espera = np.zeros(num_clientes)\n",
    "    tempo_ocioso_total = 0\n",
    "\n",
    "    # Primeiro cliente\n",
    "    inicios_atendimento[0] = tempos_de_chegada[0]\n",
    "    tempos_de_espera[0] = 0\n",
    "    fins_atendimento[0] = inicios_atendimento[0] + tempos_de_atendimento[0]\n",
    "    tempo_ocioso_total += tempos_de_chegada[0]  # Ocioso até a primeira chegada\n",
    "\n",
    "    # Clientes subsequentes\n",
    "    for i in range(1, num_clientes):\n",
    "        # O atendente estará livre após o término do atendimento anterior\n",
    "        atendente_livre_em = fins_atendimento[i-1]\n",
    "        \n",
    "        # O atendimento começa no máximo entre a chegada do cliente e a liberação do atendente\n",
    "        inicios_atendimento[i] = max(tempos_de_chegada[i], atendente_livre_em)\n",
    "        \n",
    "        # O tempo de espera é a diferença entre o início do atendimento e a chegada\n",
    "        tempos_de_espera[i] = inicios_atendimento[i] - tempos_de_chegada[i]\n",
    "        \n",
    "        # O atendimento termina após o seu tempo de duração\n",
    "        fins_atendimento[i] = inicios_atendimento[i] + tempos_de_atendimento[i]\n",
    "\n",
    "        # Se o cliente chegou depois do atendente ficar livre, houve tempo ocioso\n",
    "        if tempos_de_chegada[i] > atendente_livre_em:\n",
    "            tempo_ocioso_total += tempos_de_chegada[i] - atendente_livre_em\n",
    "\n",
    "    # --- 4. Cálculo dos Resultados ---\n",
    "    tempo_total_simulacao = fins_atendimento[-1]\n",
    "\n",
    "    # A) Média e desvio padrão da duração do atendimento\n",
    "    media_atendimento = np.mean(tempos_de_atendimento)\n",
    "    dp_atendimento = np.std(tempos_de_atendimento)\n",
    "\n",
    "    # B) Média e desvio padrão do tempo de espera\n",
    "    media_espera = np.mean(tempos_de_espera)\n",
    "    dp_espera = np.std(tempos_de_espera)\n",
    "\n",
    "    # C) Probabilidade de um cliente esperar mais de 3 minutos\n",
    "    prob_espera_maior_3 = len(tempos_de_espera[tempos_de_espera > 3]) / num_clientes\n",
    "\n",
    "    # D) Fração do tempo em que o atendente fica ocioso\n",
    "    fracao_tempo_ocioso = tempo_ocioso_total / tempo_total_simulacao\n",
    "\n",
    "    # --- 5. Retorno dos Resultados ---\n",
    "    resultados = {\n",
    "        \"Duração do Atendimento\": {\"Média\": media_atendimento, \"Desvio Padrão\": dp_atendimento},\n",
    "        \"Tempo de Espera na Fila\": {\"Média\": media_espera, \"Desvio Padrão\": dp_espera},\n",
    "        \"Probabilidade de Esperar > 3 min\": prob_espera_maior_3,\n",
    "        \"Fração de Tempo Ocioso do Atendente\": fracao_tempo_ocioso\n",
    "    }\n",
    "    return resultados"
   ]
  },
  {
   "cell_type": "code",
   "execution_count": 22,
   "id": "15c7c3d2",
   "metadata": {},
   "outputs": [
    {
     "name": "stdout",
     "output_type": "stream",
     "text": [
      "Iniciando simulação com f=0.55, c=0.02, m=5.0\n",
      "\n",
      "--- Resultados da Simulação (10000 Clientes) ---\n",
      "\n",
      "A) Duração do Atendimento:\n",
      "   - Média: 4.5385 minutos\n",
      "   - Desvio Padrão: 3.4129 minutos\n",
      "\n",
      "B) Tempo de Espera na Fila:\n",
      "   - Média: 3.0298 minutos\n",
      "   - Desvio Padrão: 5.6158 minutos\n",
      "\n",
      "C) Probabilidade de Esperar > 3 min: 29.21%\n",
      "\n",
      "D) Fração de Tempo Ocioso do Atendente: 53.97%\n"
     ]
    }
   ],
   "source": [
    "# Roda a simulação com as constantes definidas\n",
    "num_clientes = 10000\n",
    "estatisticas = simular_fila(f=f, c=c, m=m, num_clientes=num_clientes)\n",
    "\n",
    "# --- Exibe os resultados formatados ---\n",
    "print(f\"--- Resultados da Simulação ({num_clientes} Clientes) ---\")\n",
    "\n",
    "print(\"\\nA) Duração do Atendimento:\")\n",
    "print(f\"   - Média: {estatisticas['Duração do Atendimento']['Média']:.4f} minutos\")\n",
    "print(f\"   - Desvio Padrão: {estatisticas['Duração do Atendimento']['Desvio Padrão']:.4f} minutos\")\n",
    "\n",
    "print(\"\\nB) Tempo de Espera na Fila:\")\n",
    "print(f\"   - Média: {estatisticas['Tempo de Espera na Fila']['Média']:.4f} minutos\")\n",
    "print(f\"   - Desvio Padrão: {estatisticas['Tempo de Espera na Fila']['Desvio Padrão']:.4f} minutos\")\n",
    "\n",
    "print(f\"\\nC) Probabilidade de Esperar > 3 min: {estatisticas['Probabilidade de Esperar > 3 min']:.2%}\")\n",
    "\n",
    "print(f\"\\nD) Fração de Tempo Ocioso do Atendente: {estatisticas['Fração de Tempo Ocioso do Atendente']:.2%}\")"
   ]
  },
  {
   "cell_type": "markdown",
   "id": "1b685e45",
   "metadata": {},
   "source": [
    "## b)"
   ]
  },
  {
   "cell_type": "code",
   "execution_count": 23,
   "id": "102eebe7",
   "metadata": {},
   "outputs": [
    {
     "name": "stdout",
     "output_type": "stream",
     "text": [
      "Esperança real: 4.508666666666667\n"
     ]
    }
   ],
   "source": [
    "E = f * (4 + (16 / 3) * c) + (1 - f) * m\n",
    "print(f\"Esperança real: {E}\")"
   ]
  },
  {
   "cell_type": "code",
   "execution_count": 24,
   "id": "63aebb9c",
   "metadata": {},
   "outputs": [
    {
     "name": "stdout",
     "output_type": "stream",
     "text": [
      "Desvio Padrão real: 3.4892107353319255\n"
     ]
    }
   ],
   "source": [
    "desvio_padrao = math.sqrt(((12 - 256 * c ** 2) / 9) * f + m ** 2 * (1 - f) + f * (1 - f) * (4 + (16 / 3) * c - m) ** 2)\n",
    "\n",
    "print(f\"Desvio Padrão real: {desvio_padrao}\")"
   ]
  },
  {
   "cell_type": "markdown",
   "id": "acc1905f",
   "metadata": {},
   "source": [
    "# Questão 2."
   ]
  },
  {
   "cell_type": "code",
   "execution_count": 25,
   "id": "604dbd9b",
   "metadata": {},
   "outputs": [],
   "source": [
    "def simular_figurinhas(N : int) -> int:\n",
    "    \"\"\"\n",
    "    Realiza uma simulação de álbum de figurinhas.\n",
    "\n",
    "    Args:\n",
    "        N (int): Total de figurinhas para completar no álbum.\n",
    "\n",
    "    Returns:\n",
    "        int: Total de cartinhas compradas.\n",
    "    \"\"\"\n",
    "    figurinhas_obtidas = set()\n",
    "    num_compras = 0\n",
    "\n",
    "    while len(figurinhas_obtidas) < N:\n",
    "        num_compras += 1\n",
    "\n",
    "        nova_figurinha = np.random.randint(N)\n",
    "        figurinhas_obtidas.add(nova_figurinha)\n",
    "\n",
    "    return num_compras"
   ]
  },
  {
   "cell_type": "code",
   "execution_count": 26,
   "id": "a1a5bea2",
   "metadata": {},
   "outputs": [],
   "source": [
    "num_simulacoes_figurinhas = 1000\n",
    "iteracoes_simulacoes = []\n",
    "for _ in range(num_simulacoes_figurinhas):\n",
    "    iteracoes_simulacoes.append(simular_figurinhas(N))\n",
    "\n",
    "iteracoes_simulacoes = np.array(iteracoes_simulacoes)"
   ]
  },
  {
   "cell_type": "code",
   "execution_count": 27,
   "id": "5afd7771",
   "metadata": {},
   "outputs": [
    {
     "name": "stdout",
     "output_type": "stream",
     "text": [
      "--- Resultados da Simulação (1000 álbuns) ---\n",
      "\n",
      "A) Total de Figurinhas Compradas:\n",
      "   - Média: 4682.8950 figurinhas\n",
      "   - Desvio Padrão: 828.0099 figurinhas\n",
      "\n",
      "C) Total Acumulado:\n",
      "   - Probabilidade de Comprar > 4500: 0.537\n"
     ]
    }
   ],
   "source": [
    "print(f\"--- Resultados da Simulação ({num_simulacoes_figurinhas} álbuns) ---\")\n",
    "\n",
    "print(\"\\nA) Total de Figurinhas Compradas:\")\n",
    "print(f\"   - Média: {iteracoes_simulacoes.mean():.4f} figurinhas\")\n",
    "print(f\"   - Desvio Padrão: {iteracoes_simulacoes.std():.4f} figurinhas\")\n",
    "\n",
    "print(\"\\nC) Total Acumulado:\")\n",
    "print(f\"   - Probabilidade de Comprar > {M}: {len(iteracoes_simulacoes[iteracoes_simulacoes > M]) / num_simulacoes_figurinhas }\")"
   ]
  },
  {
   "cell_type": "code",
   "execution_count": 28,
   "id": "751f5f38",
   "metadata": {},
   "outputs": [
    {
     "name": "stdout",
     "output_type": "stream",
     "text": [
      "Esperança real: 4706.706673882401\n"
     ]
    }
   ],
   "source": [
    "E = 0\n",
    "for i in range(1, N + 1):\n",
    "    E += N / i\n",
    "\n",
    "print(f\"Esperança real: {E}\")"
   ]
  },
  {
   "cell_type": "code",
   "execution_count": 29,
   "id": "fa299aed",
   "metadata": {},
   "outputs": [
    {
     "name": "stdout",
     "output_type": "stream",
     "text": [
      "Desvio padrão real: 849.7409962967828\n"
     ]
    }
   ],
   "source": [
    "var = 0\n",
    "for i in range(1, N + 1):\n",
    "    var += N ** 2 / (i ** 2) - N / i\n",
    "    \n",
    "desvio_padrao = math.sqrt(var)\n",
    "\n",
    "print(f\"Desvio padrão real: {desvio_padrao}\")"
   ]
  },
  {
   "cell_type": "code",
   "execution_count": 30,
   "id": "ff161cd0",
   "metadata": {},
   "outputs": [],
   "source": [
    "def simular_figurinhas_com_2_albuns(N: int):\n",
    "    \"\"\"\n",
    "    Realiza uma simulação de compra de figurinhas com dois álbuns de tamanho N.\n",
    "\n",
    "    Args:\n",
    "        N (int): Total de figurinhas distintas para completar um álbum.\n",
    "\n",
    "    Returns:\n",
    "        int: Total de figurinhas compradas até que ambos os álbuns estejam completos.\n",
    "    \"\"\"\n",
    "    \n",
    "    figurinhas_obtidas_1 = set()\n",
    "    figurinhas_obtidas_2 = set()\n",
    "    num_compras = 0\n",
    "\n",
    "    while len(figurinhas_obtidas_1) + len(figurinhas_obtidas_2) < 2 * N:\n",
    "        num_compras += 1\n",
    "        nova_figurinha = np.random.randint(N)\n",
    "        if nova_figurinha not in figurinhas_obtidas_1:\n",
    "            figurinhas_obtidas_1.add(nova_figurinha)\n",
    "            continue\n",
    "        \n",
    "        figurinhas_obtidas_2.add(nova_figurinha)\n",
    "\n",
    "    return num_compras"
   ]
  },
  {
   "cell_type": "code",
   "execution_count": 31,
   "id": "f970357a",
   "metadata": {},
   "outputs": [],
   "source": [
    "iteracoes_simulacoes_2 = []\n",
    "for _ in range(num_simulacoes_figurinhas):\n",
    "    total = simular_figurinhas_com_2_albuns(N=N)\n",
    "    iteracoes_simulacoes_2.append(total)\n",
    "iteracoes_simulacoes_2 = np.array(iteracoes_simulacoes_2)\n"
   ]
  },
  {
   "cell_type": "code",
   "execution_count": 32,
   "id": "c50299b4",
   "metadata": {},
   "outputs": [
    {
     "name": "stdout",
     "output_type": "stream",
     "text": [
      "Média de figurinhas para dois álbuns: 6260.853\n",
      "Média de figurinhas por álbum: 3130.4265\n"
     ]
    }
   ],
   "source": [
    "\n",
    "print(f\"Média de figurinhas para dois álbuns: {iteracoes_simulacoes_2.mean()}\")\n",
    "print(f\"Média de figurinhas por álbum: {iteracoes_simulacoes_2.mean() / 2}\")"
   ]
  }
 ],
 "metadata": {
  "kernelspec": {
   "display_name": ".FGV_env",
   "language": "python",
   "name": "python3"
  },
  "language_info": {
   "codemirror_mode": {
    "name": "ipython",
    "version": 3
   },
   "file_extension": ".py",
   "mimetype": "text/x-python",
   "name": "python",
   "nbconvert_exporter": "python",
   "pygments_lexer": "ipython3",
   "version": "3.13.0"
  }
 },
 "nbformat": 4,
 "nbformat_minor": 5
}
