{
 "cells": [
  {
   "cell_type": "code",
   "execution_count": 1,
   "id": "24c31fae",
   "metadata": {},
   "outputs": [],
   "source": [
    "import torch\n",
    "import torch.nn as nn\n",
    "import torch.optim as optim\n",
    "from torch.utils.data import DataLoader\n",
    "from torchvision import datasets, transforms"
   ]
  },
  {
   "cell_type": "code",
   "execution_count": 2,
   "id": "edf4fea4",
   "metadata": {},
   "outputs": [],
   "source": [
    "class FashionCNN(nn.Module):\n",
    "    def __init__(self):\n",
    "        super(FashionCNN, self).__init__()\n",
    "\n",
    "        self.conv1 = nn.Sequential(\n",
    "            nn.Conv2d(in_channels=1, out_channels=16, kernel_size=5, stride=1, padding=2),\n",
    "            nn.ReLU(),\n",
    "            nn.MaxPool2d(kernel_size=2)\n",
    "        )\n",
    "        self.conv2 = nn.Sequential(\n",
    "            nn.Conv2d(in_channels=16, out_channels=32, kernel_size=5, stride=1, padding=2),\n",
    "            nn.ReLU(),\n",
    "            nn.MaxPool2d(kernel_size=2)\n",
    "        )\n",
    "        self.fc1 = nn.Linear(32 * 7 * 7, 128)\n",
    "        self.fc2 = nn.Linear(128, 10)\n",
    "    \n",
    "    def forward(self, x):\n",
    "        x = self.conv1(x)\n",
    "        x = self.conv2(x)\n",
    "        x = x.view(x.size(0), -1)\n",
    "        x = self.fc1(x)\n",
    "        x = self.fc2(x)\n",
    "        return x"
   ]
  },
  {
   "cell_type": "code",
   "execution_count": 3,
   "id": "2acfa58d",
   "metadata": {},
   "outputs": [],
   "source": [
    "num_epochs = 10\n",
    "batch_size = 64\n",
    "learning_rate = 1e-3"
   ]
  },
  {
   "cell_type": "code",
   "execution_count": null,
   "id": "872a0066",
   "metadata": {},
   "outputs": [
    {
     "name": "stdout",
     "output_type": "stream",
     "text": [
      "Usando o dispositivo: cpu\n"
     ]
    }
   ],
   "source": [
    "device = torch.device('xpu' if torch.xpu.is_available() else 'cpu')\n",
    "print(f\"Usando o dispositivo: {device}\")"
   ]
  },
  {
   "cell_type": "code",
   "execution_count": 5,
   "id": "ead937bc",
   "metadata": {},
   "outputs": [],
   "source": [
    "transform = transforms.Compose([\n",
    "    transforms.ToTensor(),\n",
    "    transforms.Normalize(mean=(0.5,), std=(0.5,))\n",
    "])"
   ]
  },
  {
   "cell_type": "code",
   "execution_count": 6,
   "id": "3435cccc",
   "metadata": {},
   "outputs": [],
   "source": [
    "train_dataset = datasets.FashionMNIST(root='./data', train=True, transform=transform, download=True)\n",
    "train_loader = DataLoader(dataset=train_dataset, batch_size=batch_size, shuffle=True)\n",
    "\n",
    "test_dataset = datasets.FashionMNIST(root='./data', train=False, transform=transform, download=True)\n",
    "test_loader = DataLoader(dataset=test_dataset, batch_size=batch_size, shuffle=False)"
   ]
  },
  {
   "cell_type": "code",
   "execution_count": 7,
   "id": "ff4ef89c",
   "metadata": {},
   "outputs": [],
   "source": [
    "model = FashionCNN().to(device)\n",
    "criterion = nn.CrossEntropyLoss()\n",
    "optimizer = optim.Adam(model.parameters(), lr=learning_rate)"
   ]
  },
  {
   "cell_type": "code",
   "execution_count": 8,
   "id": "0c15fe08",
   "metadata": {},
   "outputs": [],
   "source": [
    "def train(model, device, train_loader, criterion, optimizer, epoch):\n",
    "    model.train()\n",
    "    for batch_idx, (data, target) in enumerate(train_loader):\n",
    "        data, target = data.to(device), target.to(device)\n",
    "\n",
    "        outputs = model(data)\n",
    "        loss = criterion(outputs, target)\n",
    "\n",
    "        optimizer.zero_grad()\n",
    "        loss.backward()\n",
    "        optimizer.step()\n",
    "\n",
    "        if (batch_idx + 1) % 100 == 0:\n",
    "            print(f'Época de Treino: {epoch+1} [{batch_idx * len(data)}/{len(train_loader.dataset)} ({100. * batch_idx / len(train_loader):.0f}%)]\\tPerda: {loss.item():.6f}')\n"
   ]
  },
  {
   "cell_type": "code",
   "execution_count": 9,
   "id": "686694c9",
   "metadata": {},
   "outputs": [],
   "source": [
    "def evaluate(model, device, test_loader):\n",
    "    model.eval()\n",
    "    test_loss = 0\n",
    "    correct = 0\n",
    "    with torch.no_grad():\n",
    "        for data, target in test_loader:\n",
    "            data, target = data.to(device), target.to(device)\n",
    "            outputs = model(data)\n",
    "            test_loss += criterion(outputs, target).item()\n",
    "            pred = outputs.argmax(dim=1, keepdim=True)\n",
    "            correct += pred.eq(target.view_as(pred)).sum().item()\n",
    "        \n",
    "        test_loss /= len(test_loader.dataset)\n",
    "        print(f'\\nConjunto de Teste: Perda Média: {test_loss:.4f}, Acurácia: {correct}/{len(test_loader.dataset)} ({100. * correct / len(test_loader.dataset):.0f}%)\\n')"
   ]
  },
  {
   "cell_type": "code",
   "execution_count": null,
   "id": "fd943ac2",
   "metadata": {},
   "outputs": [
    {
     "name": "stdout",
     "output_type": "stream",
     "text": [
      "Época de Treino: 1 [6336/60000 (11%)]\tPerda: 0.402969\n",
      "Época de Treino: 1 [12736/60000 (21%)]\tPerda: 0.539141\n",
      "Época de Treino: 1 [19136/60000 (32%)]\tPerda: 0.457055\n",
      "Época de Treino: 1 [25536/60000 (43%)]\tPerda: 0.285695\n",
      "Época de Treino: 1 [31936/60000 (53%)]\tPerda: 0.651266\n",
      "Época de Treino: 1 [38336/60000 (64%)]\tPerda: 0.411316\n",
      "Época de Treino: 1 [44736/60000 (75%)]\tPerda: 0.440702\n",
      "Época de Treino: 1 [51136/60000 (85%)]\tPerda: 0.459366\n",
      "Época de Treino: 1 [57536/60000 (96%)]\tPerda: 0.306651\n",
      "\n",
      "Conjunto de Teste: Perda Média: 0.0053, Acurácia: 8797/10000 (88%)\n",
      "\n",
      "Época de Treino: 2 [6336/60000 (11%)]\tPerda: 0.237895\n",
      "Época de Treino: 2 [12736/60000 (21%)]\tPerda: 0.372549\n",
      "Época de Treino: 2 [19136/60000 (32%)]\tPerda: 0.413690\n",
      "Época de Treino: 2 [25536/60000 (43%)]\tPerda: 0.215981\n",
      "Época de Treino: 2 [31936/60000 (53%)]\tPerda: 0.343069\n",
      "Época de Treino: 2 [38336/60000 (64%)]\tPerda: 0.417583\n",
      "Época de Treino: 2 [44736/60000 (75%)]\tPerda: 0.384830\n",
      "Época de Treino: 2 [51136/60000 (85%)]\tPerda: 0.252777\n",
      "Época de Treino: 2 [57536/60000 (96%)]\tPerda: 0.308497\n",
      "\n",
      "Conjunto de Teste: Perda Média: 0.0044, Acurácia: 8989/10000 (90%)\n",
      "\n",
      "Época de Treino: 3 [6336/60000 (11%)]\tPerda: 0.283837\n",
      "Época de Treino: 3 [12736/60000 (21%)]\tPerda: 0.221195\n",
      "Época de Treino: 3 [19136/60000 (32%)]\tPerda: 0.188939\n",
      "Época de Treino: 3 [25536/60000 (43%)]\tPerda: 0.153691\n",
      "Época de Treino: 3 [31936/60000 (53%)]\tPerda: 0.427665\n",
      "Época de Treino: 3 [38336/60000 (64%)]\tPerda: 0.113956\n"
     ]
    }
   ],
   "source": [
    "for epoch in range(num_epochs):\n",
    "    train(model, device, train_loader, criterion, optimizer, epoch)\n",
    "    evaluate(model, device, test_loader)"
   ]
  }
 ],
 "metadata": {
  "kernelspec": {
   "display_name": ".FGV_env",
   "language": "python",
   "name": "python3"
  },
  "language_info": {
   "codemirror_mode": {
    "name": "ipython",
    "version": 3
   },
   "file_extension": ".py",
   "mimetype": "text/x-python",
   "name": "python",
   "nbconvert_exporter": "python",
   "pygments_lexer": "ipython3",
   "version": "3.13.0"
  }
 },
 "nbformat": 4,
 "nbformat_minor": 5
}
