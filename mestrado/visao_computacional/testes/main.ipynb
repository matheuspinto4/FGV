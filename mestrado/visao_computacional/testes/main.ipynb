{
 "cells": [
  {
   "cell_type": "code",
   "execution_count": 2,
   "id": "227ace77",
   "metadata": {},
   "outputs": [],
   "source": [
    "import numpy as np\n",
    "import cv2 as cv\n",
    "import matplotlib.pyplot as plt"
   ]
  },
  {
   "cell_type": "code",
   "execution_count": 1,
   "id": "c416fa1f",
   "metadata": {},
   "outputs": [
    {
     "ename": "NameError",
     "evalue": "name 'cv' is not defined",
     "output_type": "error",
     "traceback": [
      "\u001b[31m---------------------------------------------------------------------------\u001b[39m",
      "\u001b[31mNameError\u001b[39m                                 Traceback (most recent call last)",
      "\u001b[36mCell\u001b[39m\u001b[36m \u001b[39m\u001b[32mIn[1]\u001b[39m\u001b[32m, line 2\u001b[39m\n\u001b[32m      1\u001b[39m \u001b[38;5;66;03m# print(np.linalg.norm(np.array([263, 396]) - np.array([394, 3057])))\u001b[39;00m\n\u001b[32m----> \u001b[39m\u001b[32m2\u001b[39m img = \u001b[43mcv\u001b[49m.imread(\u001b[33m'\u001b[39m\u001b[33mIMG_9907.JPG\u001b[39m\u001b[33m'\u001b[39m)\n\u001b[32m      4\u001b[39m rows,cols,ch = img.shape\n\u001b[32m      6\u001b[39m pts1 = np.float32([\n\u001b[32m      7\u001b[39m     [\u001b[32m263\u001b[39m, \u001b[32m396\u001b[39m],\n\u001b[32m      8\u001b[39m     [\u001b[32m5083\u001b[39m,\u001b[32m163\u001b[39m],\n\u001b[32m      9\u001b[39m     [\u001b[32m394\u001b[39m, \u001b[32m3057\u001b[39m],\n\u001b[32m     10\u001b[39m     [\u001b[32m5144\u001b[39m, \u001b[32m2907\u001b[39m]\n\u001b[32m     11\u001b[39m ])\n",
      "\u001b[31mNameError\u001b[39m: name 'cv' is not defined"
     ]
    }
   ],
   "source": [
    "# print(np.linalg.norm(np.array([263, 396]) - np.array([394, 3057])))\n",
    "img = cv.imread('IMG_9907.JPG')\n",
    "\n",
    "rows,cols,ch = img.shape\n",
    "\n",
    "pts1 = np.float32([\n",
    "    [263, 396],\n",
    "    [5083,163],\n",
    "    [394, 3057],\n",
    "    [5144, 2907]\n",
    "])\n",
    "\n",
    "pts2 = np.float32([\n",
    "    [0,0],\n",
    "    [4825, 0],\n",
    "    [0, 2664],\n",
    "    [4825, 2664]\n",
    "])\n",
    "\n",
    "\n",
    "M = cv.getPerspectiveTransform(pts1, pts2)\n",
    "\n",
    "dst = cv.warpPerspective(img, M, (4825, 2664))\n",
    "plt.imshow(dst)\n",
    "plt.axis(False)\n",
    "plt.show()\n",
    "\n",
    "cv.imwrite('IMG_ajustada.JPG', dst)"
   ]
  }
 ],
 "metadata": {
  "kernelspec": {
   "display_name": ".FGV_env",
   "language": "python",
   "name": "python3"
  },
  "language_info": {
   "codemirror_mode": {
    "name": "ipython",
    "version": 3
   },
   "file_extension": ".py",
   "mimetype": "text/x-python",
   "name": "python",
   "nbconvert_exporter": "python",
   "pygments_lexer": "ipython3",
   "version": "3.13.0"
  }
 },
 "nbformat": 4,
 "nbformat_minor": 5
}
