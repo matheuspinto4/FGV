{
 "cells": [
  {
   "cell_type": "code",
   "execution_count": 1,
   "id": "f7db00e5",
   "metadata": {},
   "outputs": [],
   "source": [
    "from bs4 import BeautifulSoup\n",
    "from pprint import pprint\n",
    "import requests"
   ]
  },
  {
   "cell_type": "code",
   "execution_count": 2,
   "id": "126b394b",
   "metadata": {},
   "outputs": [],
   "source": [
    "numero_normativo = 41716\n",
    "url = f\"https://www.bcb.gov.br/api/conteudo/app/normativos/exibeoutrasnormas?p1=COMUNICADO&p2={numero_normativo}\""
   ]
  },
  {
   "cell_type": "code",
   "execution_count": 3,
   "id": "7019cb17",
   "metadata": {},
   "outputs": [],
   "source": [
    "headers = {\n",
    "    \"Host\": \"www.bcb.gov.br\",\n",
    "    \"User-Agent\": \"Mozilla/5.0 (Windows NT 10.0; Win64; x64; rv:142.0) Gecko/20100101 Firefox/142.0\",\n",
    "    \"Accept\": \"application/json, text/plain, */*\",\n",
    "    \"Accept-Language\": \"en-US,en;q=0.5\",\n",
    "    \"Accept-Encoding\": \"gzip, deflate, br, zstd\",\n",
    "    \"Connection\": \"keep-alive\",\n",
    "    \"Referer\": f\"https://www.bcb.gov.br/estabilidadefinanceira/exibenormativo?tipo=Comunicado&numero={numero_normativo}\",\n",
    "    \"Sec-Fetch-Dest\": \"empty\",\n",
    "    \"Sec-Fetch-Mode\": \"cors\",\n",
    "    \"Sec-Fetch-Site\": \"same-origin\",\n",
    "}"
   ]
  },
  {
   "cell_type": "code",
   "execution_count": 4,
   "id": "50efafb2",
   "metadata": {},
   "outputs": [
    {
     "name": "stdout",
     "output_type": "stream",
     "text": [
      "200\n"
     ]
    }
   ],
   "source": [
    "page = requests.get(url, headers=headers)\n",
    "print(page.status_code)"
   ]
  },
  {
   "cell_type": "code",
   "execution_count": 8,
   "id": "fe23f060",
   "metadata": {},
   "outputs": [
    {
     "name": "stdout",
     "output_type": "stream",
     "text": [
      "O Banco Central do Brasil, tendo em vista o disposto na Resolução CMN nº 2.939, de 26 de março de 2002, e na Resolução BCB nº 76, de 23 de fevereiro de 2021, torna público que, das 11:30 às 11:40 horas do dia 10 de junho de 2024, acolherá propostas das\n",
      " instituições financeiras participantes do módulo Oferta Pública (Ofpub) para a realização de operações de swap a serem registradas na B3 - Brasil, Bolsa, Balcão S.A., nos termos do \"Contrato de Swap Cambial com Ajuste Periódico Baseado em Operações Compromissadas\n",
      " de Um Dia - SCS\" daquela bolsa, com as seguintes características:\n",
      "Posição          Posição\n",
      "Data de       Data de       assumida pelo    assumida pelas   Quantidade de\n",
      "início        vencimento    Banco Central    inst.financeiras contratos\n",
      "01/08/2024    03/02/2025     compradora       vendedora        até 12.000\n",
      "01/08/2024    01/04/2025     compradora       vendedora        até 12.000\n",
      "2. Serão aceitos no máximo até 12.000 (doze mil) contratos a serem distribuídos a critério do Banco Central do Brasil, entre os vencimentos acima mencionados.\n",
      "3.  Na formulação das propostas, limitadas a 5 (cinco) por instituição, deverão ser informadas a quantidade de contratos e a respectiva taxa de juros representativa de cupom cambial, expressa como taxa linear anual, base 360 (trezentos e sessenta) dias corridos,\n",
      " com 3 (três) casas decimais.\n",
      "4. Na apuração da presente oferta pública será utilizado o critério de preço único, acatando-se todas as propostas com taxa igual ou inferior à taxa máxima aceita pelo Banco Central do Brasil, a qual será aplicada a todas as propostas vencedoras.\n",
      "5. O resultado desta oferta pública será divulgado após a apuração realizada pelo  Banco Central do Brasil.\n",
      "6. Após a divulgação do resultado, o Banco Central do Brasil enviará à B3 a relação das instituições contempladas, a quantidade de contratos aceita para cada uma e a taxa de juros apurada no leilão.\n",
      "7. Conforme previsto em Ofício-circular da B3, as instituições que tiverem suas propostas aceitas deverão eleger uma corretora associada àquela bolsa para que proceda ao pré-registro das operações de swap de que se trata.\n",
      "8. As pessoas físicas e as demais pessoas jurídicas poderão participar da oferta de que trata este comunicado, por intermédio das instituições referidas no parágrafo primeiro.\n",
      "9. A presente oferta pública será realizada exclusivamente pelo módulo Ofpub, previsto no Regulamento do Sistema Especial de Liquidação e de Custódia (Selic).\n",
      "Departamento de Operações do Mercado Aberto\n",
      "André de Oliveira Amante\n",
      "Chefe\n"
     ]
    }
   ],
   "source": [
    "conteudo_lei = BeautifulSoup(page.json()['conteudo'][0]['Texto'], 'lxml')\n",
    "texto_lei = conteudo_lei.get_text(separator='\\n', strip=True)\n",
    "\n",
    "print(texto_lei)"
   ]
  }
 ],
 "metadata": {
  "kernelspec": {
   "display_name": ".FGV_env",
   "language": "python",
   "name": "python3"
  },
  "language_info": {
   "codemirror_mode": {
    "name": "ipython",
    "version": 3
   },
   "file_extension": ".py",
   "mimetype": "text/x-python",
   "name": "python",
   "nbconvert_exporter": "python",
   "pygments_lexer": "ipython3",
   "version": "3.13.0"
  }
 },
 "nbformat": 4,
 "nbformat_minor": 5
}
