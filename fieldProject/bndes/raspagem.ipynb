{
 "cells": [
  {
   "cell_type": "code",
   "execution_count": null,
   "id": "f7db00e5",
   "metadata": {},
   "outputs": [],
   "source": [
    "from bs4 import BeautifulSoup\n",
    "import planalto, bcb\n",
    "import requests"
   ]
  },
  {
   "cell_type": "code",
   "execution_count": null,
   "id": "c54d38b3",
   "metadata": {},
   "outputs": [],
   "source": [
    "numero_normativo = [41716, 41717, 41718, 41710, 41711]\n",
    "for n in numero_normativo:\n",
    "    print(bcb.get_normativo(numero_normativo=n))\n",
    "    print('_'*50)"
   ]
  },
  {
   "cell_type": "code",
   "execution_count": null,
   "id": "4842b01d",
   "metadata": {},
   "outputs": [],
   "source": [
    "for n in range(12500, 13000):\n",
    "    print(planalto.get_normativo(n))\n",
    "    print('_'*50)"
   ]
  }
 ],
 "metadata": {
  "kernelspec": {
   "display_name": ".FGV_env",
   "language": "python",
   "name": "python3"
  },
  "language_info": {
   "codemirror_mode": {
    "name": "ipython",
    "version": 3
   },
   "file_extension": ".py",
   "mimetype": "text/x-python",
   "name": "python",
   "nbconvert_exporter": "python",
   "pygments_lexer": "ipython3",
   "version": "3.13.0"
  }
 },
 "nbformat": 4,
 "nbformat_minor": 5
}
